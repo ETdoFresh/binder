{
 "cells": [
  {
   "cell_type": "markdown",
   "id": "10d813d6-dfce-47f5-bab8-49a009d7bb26",
   "metadata": {},
   "source": [
    "# Data Structure\n",
    "So now that we have the data, let's design some classes that are more both more understandable to humans and easier to iterate through as explained here: http://yann.lecun.com/exdb/mnist/index.html [FILE FORMATS FOR THE MNIST DATABASE]"
   ]
  },
  {
   "cell_type": "code",
   "execution_count": 9,
   "id": "7e1e58ec-cec7-47df-8d3f-406bbacf5218",
   "metadata": {},
   "outputs": [],
   "source": [
    "public class ImageSetFile\n",
    "{\n",
    "    public int magicNumber = 0;\n",
    "    public int numberOfImages = 0;\n",
    "    public int numberOfRows = 0;\n",
    "    public int numberOfColumns = 0;\n",
    "    public Image[] images = new Image[0];\n",
    "}\n",
    "\n",
    "public class LabelSetFile\n",
    "{\n",
    "    public int magicNumber = 0;\n",
    "    public int numberOfItems = 0;\n",
    "    public Label[] labels = new Label[0];\n",
    "}\n",
    "\n",
    "public class Image\n",
    "{\n",
    "    public byte[] values = new byte[0];\n",
    "}\n",
    "\n",
    "public class Label\n",
    "{\n",
    "    public byte value = 0;\n",
    "}"
   ]
  },
  {
   "cell_type": "markdown",
   "id": "38371447-e939-4154-96db-fbe3e592047d",
   "metadata": {},
   "source": [
    "Now, we are going to parse the labels..."
   ]
  },
  {
   "cell_type": "code",
   "execution_count": 24,
   "id": "628c8ab9-e59b-47e0-a8b3-54cffe4a33ca",
   "metadata": {},
   "outputs": [
    {
     "data": {
      "text/plain": [
       "Magic Number: 2049"
      ]
     },
     "metadata": {},
     "output_type": "display_data"
    },
    {
     "data": {
      "text/plain": [
       "Number of Items: 60000"
      ]
     },
     "metadata": {},
     "output_type": "display_data"
    },
    {
     "data": {
      "text/html": [
       "<table><thead><tr><th><i>index</i></th><th>value</th></tr></thead><tbody><tr><td>0</td><td><div class=\"dni-plaintext\">5</div></td></tr><tr><td>1</td><td><div class=\"dni-plaintext\">0</div></td></tr><tr><td>2</td><td><div class=\"dni-plaintext\">4</div></td></tr><tr><td>3</td><td><div class=\"dni-plaintext\">1</div></td></tr><tr><td>4</td><td><div class=\"dni-plaintext\">9</div></td></tr><tr><td>5</td><td><div class=\"dni-plaintext\">2</div></td></tr><tr><td>6</td><td><div class=\"dni-plaintext\">1</div></td></tr><tr><td>7</td><td><div class=\"dni-plaintext\">3</div></td></tr><tr><td>8</td><td><div class=\"dni-plaintext\">1</div></td></tr><tr><td>9</td><td><div class=\"dni-plaintext\">4</div></td></tr><tr><td>10</td><td><div class=\"dni-plaintext\">3</div></td></tr><tr><td>11</td><td><div class=\"dni-plaintext\">5</div></td></tr><tr><td>12</td><td><div class=\"dni-plaintext\">3</div></td></tr><tr><td>13</td><td><div class=\"dni-plaintext\">6</div></td></tr><tr><td>14</td><td><div class=\"dni-plaintext\">1</div></td></tr><tr><td>15</td><td><div class=\"dni-plaintext\">7</div></td></tr><tr><td>16</td><td><div class=\"dni-plaintext\">2</div></td></tr><tr><td>17</td><td><div class=\"dni-plaintext\">8</div></td></tr><tr><td>18</td><td><div class=\"dni-plaintext\">6</div></td></tr><tr><td>19</td><td><div class=\"dni-plaintext\">9</div></td></tr><tr><td colspan=\"2\"><i>(59980 more)</i></td></tr></tbody></table>"
      ]
     },
     "metadata": {},
     "output_type": "display_data"
    }
   ],
   "source": [
    "private LabelSetFile ParseLabel(byte[] data)\n",
    "{\n",
    "    var bitIndex = 0;\n",
    "    var labelSetFile = new LabelSetFile();\n",
    "    \n",
    "    // Parse Magic Number\n",
    "    if (System.BitConverter.IsLittleEndian) Array.Reverse(data, bitIndex, 4);\n",
    "    labelSetFile.magicNumber = System.BitConverter.ToInt32(data, bitIndex);\n",
    "    bitIndex += 4;\n",
    "    \n",
    "    // Parse Number of Items\n",
    "    if (System.BitConverter.IsLittleEndian) Array.Reverse(data, bitIndex, 4);\n",
    "    labelSetFile.numberOfItems = System.BitConverter.ToInt32(data, bitIndex);\n",
    "    bitIndex += 4;\n",
    "    \n",
    "    // Get Labels\n",
    "    labelSetFile.labels = new Label[data.Length - bitIndex];\n",
    "    for (var i = 0; bitIndex < data.Length; bitIndex += 1, i += 1)\n",
    "        labelSetFile.labels[i] = new Label {value = data[bitIndex]};\n",
    "    \n",
    "    return labelSetFile;\n",
    "}\n",
    "\n",
    "\n",
    "var trainLabels = ParseLabel(System.IO.File.ReadAllBytes(\"train-labels.idx1-ubyte\"));\n",
    "display($\"Magic Number: {trainLabels.magicNumber}\");\n",
    "display($\"Number of Items: {trainLabels.numberOfItems}\");\n",
    "display(trainLabels.labels);"
   ]
  },
  {
   "cell_type": "code",
   "execution_count": 26,
   "id": "6706c629-b21d-49aa-9aef-50181057a7b3",
   "metadata": {},
   "outputs": [
    {
     "ename": "Unhandled exception",
     "evalue": "System.TypeInitializationException: The type initializer for 'Gdip' threw an exception.\n ---> System.PlatformNotSupportedException: System.Drawing.Common is not supported on non-Windows platforms. See https://aka.ms/systemdrawingnonwindows for more information.\n   at System.Drawing.LibraryResolver.EnsureRegistered()\n   at System.Drawing.SafeNativeMethods.Gdip.PlatformInitialize()\n   at System.Drawing.SafeNativeMethods.Gdip..cctor()\n   --- End of inner exception stack trace ---\n   at System.Drawing.SafeNativeMethods.Gdip.GdipLoadImageFromFile(String filename, IntPtr& image)\n   at System.Drawing.Image.FromFile(String filename, Boolean useEmbeddedColorManagement)\n   at System.Drawing.Image.FromFile(String filename)\n   at Submission#28.<<Initialize>>d__0.MoveNext()\n--- End of stack trace from previous location ---\n   at Microsoft.CodeAnalysis.Scripting.ScriptExecutionState.RunSubmissionsAsync[TResult](ImmutableArray`1 precedingExecutors, Func`2 currentExecutor, StrongBox`1 exceptionHolderOpt, Func`2 catchExceptionOpt, CancellationToken cancellationToken)",
     "output_type": "error",
     "traceback": [
      "System.TypeInitializationException: The type initializer for 'Gdip' threw an exception.\n ---> System.PlatformNotSupportedException: System.Drawing.Common is not supported on non-Windows platforms. See https://aka.ms/systemdrawingnonwindows for more information.\n   at System.Drawing.LibraryResolver.EnsureRegistered()\n   at System.Drawing.SafeNativeMethods.Gdip.PlatformInitialize()\n   at System.Drawing.SafeNativeMethods.Gdip..cctor()\n   --- End of inner exception stack trace ---\n   at System.Drawing.SafeNativeMethods.Gdip.GdipLoadImageFromFile(String filename, IntPtr& image)\n   at System.Drawing.Image.FromFile(String filename, Boolean useEmbeddedColorManagement)\n   at System.Drawing.Image.FromFile(String filename)\n   at Submission#28.<<Initialize>>d__0.MoveNext()\n--- End of stack trace from previous location ---\n   at Microsoft.CodeAnalysis.Scripting.ScriptExecutionState.RunSubmissionsAsync[TResult](ImmutableArray`1 precedingExecutors, Func`2 currentExecutor, StrongBox`1 exceptionHolderOpt, Func`2 catchExceptionOpt, CancellationToken cancellationToken)",
      "   at System.Drawing.SafeNativeMethods.Gdip.GdipLoadImageFromFile(String filename, IntPtr& image)",
      "   at System.Drawing.Image.FromFile(String filename, Boolean useEmbeddedColorManagement)",
      "   at System.Drawing.Image.FromFile(String filename)",
      "   at Submission#28.<<Initialize>>d__0.MoveNext()",
      "--- End of stack trace from previous location ---",
      "   at Microsoft.CodeAnalysis.Scripting.ScriptExecutionState.RunSubmissionsAsync[TResult](ImmutableArray`1 precedingExecutors, Func`2 currentExecutor, StrongBox`1 exceptionHolderOpt, Func`2 catchExceptionOpt, CancellationToken cancellationToken)"
     ]
    }
   ],
   "source": [
    "var image = System.Drawing.Image.FromFile(\"testscreen-large.jpg\");"
   ]
  }
 ],
 "metadata": {
  "kernelspec": {
   "display_name": ".NET (C#)",
   "language": "C#",
   "name": ".net-csharp"
  },
  "language_info": {
   "file_extension": ".cs",
   "mimetype": "text/x-csharp",
   "name": "C#",
   "pygments_lexer": "csharp",
   "version": "9.0"
  }
 },
 "nbformat": 4,
 "nbformat_minor": 5
}
