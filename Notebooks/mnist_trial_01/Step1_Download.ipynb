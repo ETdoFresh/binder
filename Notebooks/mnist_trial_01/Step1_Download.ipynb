{
 "cells": [
  {
   "cell_type": "markdown",
   "id": "10d813d6-dfce-47f5-bab8-49a009d7bb26",
   "metadata": {},
   "source": [
    "# Download\n",
    "The first thing we want to do is download the files. I am working on Kaggle's Digit Recognizer exercise.\n",
    "\n",
    "https://www.kaggle.com/c/digit-recognizer  \n",
    "http://yann.lecun.com/exdb/mnist/index.html\n",
    "\n",
    "## Note\n",
    "If you see files train-images.idx3-ubyte, train-labels.idx1-ubyte, t10k-images.idx3-ubyte, and t10k-labels.idx1-ubyte... then you are already all set. You can skip this step and proceed to the next!"
   ]
  },
  {
   "cell_type": "code",
   "execution_count": 1,
   "id": "7e1e58ec-cec7-47df-8d3f-406bbacf5218",
   "metadata": {},
   "outputs": [
    {
     "data": {
      "text/html": [
       "\r\n",
       "<div>\r\n",
       "    <div id='dotnet-interactive-this-cell-32872.Microsoft.DotNet.Interactive.Http.HttpPort' style='display: none'>\r\n",
       "        The below script needs to be able to find the current output cell; this is an easy method to get it.\r\n",
       "    </div>\r\n",
       "    <script type='text/javascript'>\r\n",
       "async function probeAddresses(probingAddresses) {\r\n",
       "    function timeout(ms, promise) {\r\n",
       "        return new Promise(function (resolve, reject) {\r\n",
       "            setTimeout(function () {\r\n",
       "                reject(new Error('timeout'))\r\n",
       "            }, ms)\r\n",
       "            promise.then(resolve, reject)\r\n",
       "        })\r\n",
       "    }\r\n",
       "\r\n",
       "    if (Array.isArray(probingAddresses)) {\r\n",
       "        for (let i = 0; i < probingAddresses.length; i++) {\r\n",
       "\r\n",
       "            let rootUrl = probingAddresses[i];\r\n",
       "\r\n",
       "            if (!rootUrl.endsWith('/')) {\r\n",
       "                rootUrl = `${rootUrl}/`;\r\n",
       "            }\r\n",
       "\r\n",
       "            try {\r\n",
       "                let response = await timeout(1000, fetch(`${rootUrl}discovery`, {\r\n",
       "                    method: 'POST',\r\n",
       "                    cache: 'no-cache',\r\n",
       "                    mode: 'cors',\r\n",
       "                    timeout: 1000,\r\n",
       "                    headers: {\r\n",
       "                        'Content-Type': 'text/plain'\r\n",
       "                    },\r\n",
       "                    body: probingAddresses[i]\r\n",
       "                }));\r\n",
       "\r\n",
       "                if (response.status == 200) {\r\n",
       "                    return rootUrl;\r\n",
       "                }\r\n",
       "            }\r\n",
       "            catch (e) { }\r\n",
       "        }\r\n",
       "    }\r\n",
       "}\r\n",
       "\r\n",
       "function loadDotnetInteractiveApi() {\r\n",
       "    probeAddresses([\"http://192.168.254.240:1001/\", \"http://192.168.56.1:1001/\", \"http://192.168.137.1:1001/\", \"http://127.0.0.1:1001/\"])\r\n",
       "        .then((root) => {\r\n",
       "        // use probing to find host url and api resources\r\n",
       "        // load interactive helpers and language services\r\n",
       "        let dotnetInteractiveRequire = require.config({\r\n",
       "        context: '32872.Microsoft.DotNet.Interactive.Http.HttpPort',\r\n",
       "                paths:\r\n",
       "            {\r\n",
       "                'dotnet-interactive': `${root}resources`\r\n",
       "                }\r\n",
       "        }) || require;\r\n",
       "\r\n",
       "            window.dotnetInteractiveRequire = dotnetInteractiveRequire;\r\n",
       "\r\n",
       "            window.configureRequireFromExtension = function(extensionName, extensionCacheBuster) {\r\n",
       "                let paths = {};\r\n",
       "                paths[extensionName] = `${root}extensions/${extensionName}/resources/`;\r\n",
       "                \r\n",
       "                let internalRequire = require.config({\r\n",
       "                    context: extensionCacheBuster,\r\n",
       "                    paths: paths,\r\n",
       "                    urlArgs: `cacheBuster=${extensionCacheBuster}`\r\n",
       "                    }) || require;\r\n",
       "\r\n",
       "                return internalRequire\r\n",
       "            };\r\n",
       "        \r\n",
       "            dotnetInteractiveRequire([\r\n",
       "                    'dotnet-interactive/dotnet-interactive'\r\n",
       "                ],\r\n",
       "                function (dotnet) {\r\n",
       "                    dotnet.init(window);\r\n",
       "                },\r\n",
       "                function (error) {\r\n",
       "                    console.log(error);\r\n",
       "                }\r\n",
       "            );\r\n",
       "        })\r\n",
       "        .catch(error => {console.log(error);});\r\n",
       "    }\r\n",
       "\r\n",
       "// ensure `require` is available globally\r\n",
       "if ((typeof(require) !==  typeof(Function)) || (typeof(require.config) !== typeof(Function))) {\r\n",
       "    let require_script = document.createElement('script');\r\n",
       "    require_script.setAttribute('src', 'https://cdnjs.cloudflare.com/ajax/libs/require.js/2.3.6/require.min.js');\r\n",
       "    require_script.setAttribute('type', 'text/javascript');\r\n",
       "    \r\n",
       "    \r\n",
       "    require_script.onload = function() {\r\n",
       "        loadDotnetInteractiveApi();\r\n",
       "    };\r\n",
       "\r\n",
       "    document.getElementsByTagName('head')[0].appendChild(require_script);\r\n",
       "}\r\n",
       "else {\r\n",
       "    loadDotnetInteractiveApi();\r\n",
       "}\r\n",
       "\r\n",
       "    </script>\r\n",
       "</div>"
      ]
     },
     "metadata": {},
     "output_type": "display_data"
    }
   ],
   "source": [
    "private async Task DownloadFile(string url, string filename)\n",
    "{\n",
    "    using (var httpClient = new System.Net.Http.HttpClient())\n",
    "    {\n",
    "        var httpResponse = await httpClient.GetAsync(url);\n",
    "        httpResponse.EnsureSuccessStatusCode();\n",
    "        using (var httpStream = await httpResponse.Content.ReadAsStreamAsync())\n",
    "        using (var fileStream = System.IO.File.Create(filename))\n",
    "        {\n",
    "            httpStream.CopyTo(fileStream);\n",
    "        }\n",
    "    }\n",
    "}\n",
    "\n",
    "var url = \"http://yann.lecun.com/exdb/mnist\";\n",
    "var compressedFiles = new [] {\"train-images-idx3-ubyte.gz\", \"train-labels-idx1-ubyte.gz\", \"t10k-images-idx3-ubyte.gz\", \"t10k-labels-idx1-ubyte.gz\"};\n",
    "foreach (var file in compressedFiles)\n",
    "    await DownloadFile($\"{url}/{file}\", file);"
   ]
  },
  {
   "cell_type": "markdown",
   "id": "9a52208c-b9a9-419d-b869-92f54f74e2ea",
   "metadata": {},
   "source": [
    "Now that we downloaded the file, let's decompress them..."
   ]
  },
  {
   "cell_type": "code",
   "execution_count": 2,
   "id": "98c87fe0-3166-4605-aca2-e6d4f0bd32c7",
   "metadata": {},
   "outputs": [],
   "source": [
    "private static void DecompressFile(string compressedFileName, string decompressedFileName)\n",
    "{\n",
    "    using var compressedFileStream = System.IO.File.Open(compressedFileName, System.IO.FileMode.Open);\n",
    "    using var outputFileStream = System.IO.File.Create(decompressedFileName);\n",
    "    using var decompressor = new System.IO.Compression.GZipStream(compressedFileStream, System.IO.Compression.CompressionMode.Decompress);\n",
    "    decompressor.CopyTo(outputFileStream);\n",
    "}\n",
    "\n",
    "var decompressedFiles = new [] {\"train-images.idx3-ubyte\", \"train-labels.idx1-ubyte\", \"t10k-images.idx3-ubyte\", \"t10k-labels.idx1-ubyte\"};\n",
    "for (var i = 0; i < compressedFiles.Length; i++)\n",
    "    DecompressFile(compressedFiles[i], decompressedFiles[i]);"
   ]
  },
  {
   "cell_type": "markdown",
   "id": "6678b9e1-4036-42fd-9af1-0d7350136477",
   "metadata": {},
   "source": [
    "... and delete the compressed files ..."
   ]
  },
  {
   "cell_type": "code",
   "execution_count": 3,
   "id": "2c58509b-574f-4cd0-a919-063546098e54",
   "metadata": {},
   "outputs": [],
   "source": [
    "foreach (var file in compressedFiles)\n",
    "    System.IO.File.Delete(file);"
   ]
  },
  {
   "cell_type": "markdown",
   "id": "03f83bb0-31e8-40d0-917d-d8b2bf440f99",
   "metadata": {},
   "source": [
    "And now we have the files necessary to start training on some mnist!"
   ]
  }
 ],
 "metadata": {
  "kernelspec": {
   "display_name": ".NET (C#)",
   "language": "C#",
   "name": ".net-csharp"
  },
  "language_info": {
   "file_extension": ".cs",
   "mimetype": "text/x-csharp",
   "name": "C#",
   "pygments_lexer": "csharp",
   "version": "9.0"
  }
 },
 "nbformat": 4,
 "nbformat_minor": 5
}
