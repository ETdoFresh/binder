{
 "cells": [
  {
   "cell_type": "markdown",
   "id": "25c24ba9-0576-4049-a455-43e9aa3af543",
   "metadata": {},
   "source": [
    "# Demonstration\n",
    "\n",
    "Hey there.... I just wanted to see if this worked!"
   ]
  },
  {
   "cell_type": "markdown",
   "id": "e0cbc9c1-398c-450d-a4ee-f4bd85bb5767",
   "metadata": {},
   "source": [
    "# Hello World"
   ]
  },
  {
   "cell_type": "code",
   "execution_count": 6,
   "id": "4c045f3d-ae63-412a-a105-aba15f0fab0f",
   "metadata": {},
   "outputs": [
    {
     "name": "stdout",
     "output_type": "stream",
     "text": [
      "Hello World\n"
     ]
    }
   ],
   "source": [
    "Console.WriteLine(\"Hello World\");"
   ]
  },
  {
   "cell_type": "markdown",
   "id": "2720c824-bbfc-46d6-8082-094e634eaae5",
   "metadata": {},
   "source": [
    "# Fibonacci"
   ]
  },
  {
   "cell_type": "code",
   "execution_count": 5,
   "id": "4fc415c5-e85a-4e45-a2e7-b1705ca157e5",
   "metadata": {},
   "outputs": [
    {
     "name": "stdout",
     "output_type": "stream",
     "text": [
      "Fibonacci(0) = 0\n",
      "Fibonacci(1) = 1\n",
      "Fibonacci(2) = 1\n",
      "Fibonacci(3) = 2\n",
      "Fibonacci(4) = 3\n",
      "Fibonacci(5) = 5\n",
      "Fibonacci(6) = 8\n",
      "Fibonacci(7) = 13\n",
      "Fibonacci(8) = 21\n",
      "Fibonacci(9) = 34\n"
     ]
    }
   ],
   "source": [
    "private int Fibonacci(int n)\n",
    "{\n",
    "    if (n <= 1) return n;\n",
    "    return Fibonacci(n - 1) + Fibonacci(n - 2);\n",
    "}\n",
    "\n",
    "private void PrintResult(int n) => Console.WriteLine($\"Fibonacci({n}) = {Fibonacci(n)}\");\n",
    "\n",
    "for (var i = 0; i < 10; i++)\n",
    "    PrintResult(i);"
   ]
  }
 ],
 "metadata": {
  "kernelspec": {
   "display_name": ".NET (C#)",
   "language": "C#",
   "name": ".net-csharp"
  },
  "language_info": {
   "file_extension": ".cs",
   "mimetype": "text/x-csharp",
   "name": "C#",
   "pygments_lexer": "csharp",
   "version": "9.0"
  }
 },
 "nbformat": 4,
 "nbformat_minor": 5
}
